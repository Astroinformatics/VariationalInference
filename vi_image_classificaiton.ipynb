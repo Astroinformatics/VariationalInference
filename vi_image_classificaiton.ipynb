{
 "cells": [
  {
   "cell_type": "markdown",
   "id": "b3a83c78",
   "metadata": {},
   "source": [
    "# Modern Variational Inference\n",
    "\n",
    "In this tutorial, we'll analyze images of stars using modern variational inference and PyTorch. First let's import some packages that we'll use throughout."
   ]
  },
  {
   "cell_type": "code",
   "execution_count": 1,
   "id": "cdcd7eae",
   "metadata": {},
   "outputs": [],
   "source": [
    "import matplotlib.pyplot as plt\n",
    "import torch\n",
    "from torch import nn\n",
    "from torch.distributions import Pareto, Poisson, Normal\n",
    "\n",
    "_ = torch.manual_seed(0)"
   ]
  },
  {
   "cell_type": "markdown",
   "id": "c5cdc46d",
   "metadata": {},
   "source": [
    "## Generating the data\n",
    "For simplicity, and so that we can know the ground truth, we'll use synthetic data. Let's generate it. The next block of code defines a pixelated point spread function (PSF)."
   ]
  },
  {
   "cell_type": "code",
   "execution_count": 2,
   "id": "a68ba566",
   "metadata": {},
   "outputs": [
    {
     "data": {
      "image/png": "[encoded data removed]",
      "text/plain": [
       "<Figure size 432x288 with 1 Axes>"
      ]
     },
     "metadata": {
      "needs_background": "light"
     },
     "output_type": "display_data"
    }
   ],
   "source": [
    "n = 16  # the number of images in our dataset\n",
    "img_dim = 15  # the height and width of our images. must be odd\n",
    "\n",
    "psf_marginal = 1 + torch.arange(img_dim, dtype=torch.float32)\n",
    "half_dim = img_dim // 2\n",
    "psf_marginal[half_dim:] -= 2 * torch.arange(half_dim + 1)\n",
    "psf = torch.mm(psf_marginal.view(img_dim, 1), psf_marginal.view(1, img_dim))\n",
    "psf /= psf.sum()\n",
    "\n",
    "_ = plt.imshow(psf.data)"
   ]
  },
  {
   "cell_type": "markdown",
   "id": "46ecadc0",
   "metadata": {},
   "source": [
    "In our generative model, the flux for each star follows a Gaussian distribution:"
   ]
  },
  {
   "cell_type": "code",
   "execution_count": 3,
   "id": "73ced7e4",
   "metadata": {},
   "outputs": [],
   "source": [
    "min_flux = 100 / psf.max()\n",
    "flux_prior = Normal(10 * min_flux, 2 * min_flux)"
   ]
  },
  {
   "cell_type": "markdown",
   "id": "e41fbc04",
   "metadata": {},
   "source": [
    "To generate our synthetic dataset, let's draw the \"true\" fluxes of `n` stars. These are the latent values we'll subsequently aim to infer."
   ]
  },
  {
   "cell_type": "code",
   "execution_count": 4,
   "id": "dba04d18",
   "metadata": {},
   "outputs": [
    {
     "name": "stdout",
     "output_type": "stream",
     "text": [
      "flux mean: 62472.703125\n",
      "flux sd: 11990.9462890625\n",
      "flux min: 36925.1875\n",
      "flux max: 79842.0234375\n"
     ]
    }
   ],
   "source": [
    "true_fluxes = flux_prior.sample([n])\n",
    "print(f\"flux mean: {true_fluxes.mean().item()}\")\n",
    "print(f\"flux sd: {true_fluxes.std().item()}\")\n",
    "print(f\"flux min: {true_fluxes.min().item()}\")\n",
    "print(f\"flux max: {true_fluxes.max().item()}\")"
   ]
  },
  {
   "cell_type": "markdown",
   "id": "931d260f",
   "metadata": {},
   "source": [
    "In a realistic model of images of stars, a fixed background intensity is added to flux-scaled PSF to give the expected intensity of each pixel:"
   ]
  },
  {
   "cell_type": "code",
   "execution_count": 5,
   "id": "022bb99a",
   "metadata": {},
   "outputs": [
    {
     "data": {
      "image/png": "[encoded data removed]",
      "text/plain": [
       "<Figure size 432x288 with 1 Axes>"
      ]
     },
     "metadata": {
      "needs_background": "light"
     },
     "output_type": "display_data"
    }
   ],
   "source": [
    "background_intensity = 3 * min_flux\n",
    "star_intensity = true_fluxes.view(n, 1, 1) * psf.view(1, img_dim, img_dim)\n",
    "true_intensity = background_intensity + star_intensity\n",
    "_ = plt.imshow(true_intensity[0])"
   ]
  },
  {
   "cell_type": "markdown",
   "id": "3b7a6d09",
   "metadata": {},
   "source": [
    "Now let's draw some images of stars with the fluxes we've previously sampled:"
   ]
  },
  {
   "cell_type": "code",
   "execution_count": 6,
   "id": "49a28608",
   "metadata": {},
   "outputs": [
    {
     "data": {
      "image/png": "[encoded data removed]",
      "text/plain": [
       "<Figure size 432x288 with 1 Axes>"
      ]
     },
     "metadata": {
      "needs_background": "light"
     },
     "output_type": "display_data"
    }
   ],
   "source": [
    "images = Poisson(true_intensity).sample()\n",
    "_ = plt.imshow(images[0])"
   ]
  },
  {
   "cell_type": "markdown",
   "id": "5fbf5b10",
   "metadata": {},
   "source": [
    "## Numerical integration\n",
    "\n",
    "Numerical integration is a precursor to varational inference.\n",
    "Numerical integration approximates integrals by partitioning the domain into a grid, evaluating the integrand at each point of the grid, and averaging these values.\n",
    "In Bayesian inference, the integrand is the joint distribution: $$p(\\mathrm{fluxes}, \\mathrm{images}) = p(\\mathrm{fluxes}) \\, p(\\mathrm{images} \\mid \\mathrm{fluxes}).$$\n",
    "Integrating out the fluxes gives us $p(\\mathrm{images}).$\n",
    "Then, using Bayes rule, we can solve for the posterior, i.e.,\n",
    "$$p(\\mathrm{fluxes} \\mid \\mathrm{images}) = \\frac{p(\\mathrm{images} \\mid \\mathrm{fluxes}) \\, p(\\mathrm{fluxes})}{p(\\mathrm{images})}.$$"
   ]
  },
  {
   "cell_type": "code",
   "execution_count": 7,
   "id": "deddea19",
   "metadata": {},
   "outputs": [],
   "source": [
    "bin_width = 100\n",
    "grid_size = 5000\n",
    "flux_grid = min_flux + torch.arange(grid_size) * bin_width\n",
    "\n",
    "rate = psf.view(1, img_dim, img_dim, 1) * flux_grid.view(1, 1, 1, grid_size)\n",
    "rate += background_intensity\n",
    "\n",
    "# conditional log likelihood (for each observed image and each flux grid point)\n",
    "images4d = images.view(n, img_dim, img_dim, 1)\n",
    "log_p_images_given_fluxes = Poisson(rate).log_prob(images4d).sum([1, 2])\n",
    "assert log_p_images_given_fluxes.shape == (n, grid_size)\n",
    "\n",
    "# joint log likelihood\n",
    "log_p_fluxes_and_images = log_p_images_given_fluxes + flux_prior.log_prob(flux_grid)\n",
    "assert log_p_fluxes_and_images.shape == (n, grid_size)\n",
    "\n",
    "# posterior log likelihood\n",
    "log_p_fluxes_given_images = min_flux + log_p_fluxes_and_images * bin_width\n",
    "assert log_p_fluxes_given_images.shape == (n, grid_size)"
   ]
  },
  {
   "cell_type": "markdown",
   "id": "32020835",
   "metadata": {},
   "source": [
    "Comparing point estimates to the ground truth is one way to assess how well various inference methods a performing."
   ]
  },
  {
   "cell_type": "code",
   "execution_count": 8,
   "id": "981746ce",
   "metadata": {},
   "outputs": [
    {
     "name": "stdout",
     "output_type": "stream",
     "text": [
      "prior mean RMSE: 11710.2080078125\n",
      "sky subtracted RMSE: 1745.073486328125\n",
      "grid MLE RMSE: 1218.2911376953125\n",
      "grid MAP RMSE: 1201.5496826171875\n",
      "grid posterior mean RMSE: 1196.5240478515625\n"
     ]
    }
   ],
   "source": [
    "def flux_rmse(est_fluxes):\n",
    "    return (true_fluxes - est_fluxes).pow(2).mean().sqrt()\n",
    "\n",
    "print(f\"prior mean RMSE: {flux_rmse(flux_prior.mean)}\")\n",
    "\n",
    "ss_flux = (images - background_intensity).sum([1,2])\n",
    "print(f\"sky subtracted RMSE: {flux_rmse(ss_flux)}\")\n",
    "\n",
    "mle_flux = min_flux + 1 + log_p_images_given_fluxes.argmax(1) * bin_width\n",
    "print(f\"grid MLE RMSE: {flux_rmse(mle_flux)}\")\n",
    "\n",
    "map_flux = min_flux + 1 + log_p_fluxes_and_images.argmax(1) * bin_width\n",
    "print(f\"grid MAP RMSE: {flux_rmse(map_flux)}\")\n",
    "\n",
    "# This formula can be deleted for students to fill in.\n",
    "# The markdown above would need to give them more guidance on how to do it.\n",
    "posterior_mean = (log_p_fluxes_given_images.softmax(1) * flux_grid.view(1, grid_size)).sum(1)\n",
    "print(f\"grid posterior mean RMSE: {flux_rmse(posterior_mean)}\")"
   ]
  },
  {
   "cell_type": "markdown",
   "id": "295cad1c",
   "metadata": {},
   "source": [
    "## Variational inference\n",
    "In variational inference, we attempt to find a distribution $q(\\mathrm{flux})$ that minimizes $$\\mathrm{KL}(q(\\mathrm{flux})\\, \\| \\, p(\\mathrm{flux} \\mid \\mathrm{images}).$$\n",
    "Below, we restrict $q$ to the the class of $n$-dimensional multivariate normal distributions that have a diagonal covariance matrix.\n",
    "The approximation $q$ is parameterized by a unique mean and standardization for each images.\n",
    "We compute stochastic gradients of the objective function using the reparameterization trick, and use stochastic gradient descent for optimization."
   ]
  },
  {
   "cell_type": "code",
   "execution_count": 9,
   "id": "508f357f",
   "metadata": {},
   "outputs": [
    {
     "name": "stdout",
     "output_type": "stream",
     "text": [
      "[0] objective: 23065.56640625   rmse: 5126.71337890625\n",
      "[200] objective: 22985.771484375   rmse: 3339.947998046875\n",
      "[400] objective: 22966.779296875   rmse: 2279.43408203125\n",
      "[600] objective: 22959.607421875   rmse: 1691.5357666015625\n",
      "[800] objective: 22956.845703125   rmse: 1393.9405517578125\n",
      "[1000] objective: 22955.919921875   rmse: 1261.25\n",
      "[1200] objective: 22955.5703125   rmse: 1207.4072265625\n",
      "[1400] objective: 22955.103515625   rmse: 1187.6197509765625\n",
      "[1600] objective: 22954.8203125   rmse: 1181.0772705078125\n",
      "[1800] objective: 22955.30078125   rmse: 1177.0340576171875\n",
      "[2000] objective: 22955.255859375   rmse: 1175.362548828125\n",
      "[2200] objective: 22955.1640625   rmse: 1177.213623046875\n",
      "[2400] objective: 22954.951171875   rmse: 1176.0648193359375\n",
      "[2600] objective: 22954.919921875   rmse: 1177.2445068359375\n",
      "[2800] objective: 22955.115234375   rmse: 1177.30615234375\n"
     ]
    }
   ],
   "source": [
    "q_mean = nn.Parameter((images - background_intensity).sum([1,2]) + 5000)\n",
    "q_sd = nn.Parameter(torch.ones(n) * 100)\n",
    "\n",
    "optimizer = torch.optim.SGD([q_mean, q_sd], lr=100)\n",
    "num_samples = 64  # number of samples of q per image\n",
    "\n",
    "for i in range(3000):\n",
    "    q = Normal(q_mean, q_sd.clamp(1e-4))\n",
    "    z = q.rsample((num_samples,))\n",
    "    zt = z.permute(1, 0)\n",
    "\n",
    "    rate = psf.view(1, img_dim, img_dim, 1) * zt.view(n, 1, 1, num_samples)\n",
    "    rate += background_intensity\n",
    "    cond_ll = Poisson(rate)\n",
    "    \n",
    "    # This formula can be deleted for students to fill in.\n",
    "    # The markdown above would need to give them more guidance on how to do it.\n",
    "    neg_elbo = q.log_prob(z).sum()\n",
    "    neg_elbo -= flux_prior.log_prob(z).sum()\n",
    "    neg_elbo -= cond_ll.log_prob(images.view(n, img_dim, img_dim, 1)).sum()\n",
    "    \n",
    "    if i % 200 == 0:\n",
    "        obj = neg_elbo.item() / num_samples\n",
    "        rmse = flux_rmse(q_mean)\n",
    "        print(f\"[{i}] objective: {obj}   rmse: {rmse}\")\n",
    "    \n",
    "    optimizer.zero_grad()\n",
    "    neg_elbo.sum().backward()\n",
    "    optimizer.step()"
   ]
  },
  {
   "cell_type": "markdown",
   "id": "18d700a6",
   "metadata": {},
   "source": [
    "The approach above can be slow because it requires us to effectively solve a unique optimization problem for each image. Amortized inference is more efficient for large datasets. In amortized inference, the approximating distribution for each of the $n$ images is specified by shared neural network, called an encoder. "
   ]
  },
  {
   "cell_type": "code",
   "execution_count": 10,
   "id": "3bde34f1",
   "metadata": {},
   "outputs": [
    {
     "name": "stdout",
     "output_type": "stream",
     "text": [
      "[0] objective: 36071.2578125   rmse: 63542.5625\n",
      "[500] objective: 31334.5703125   rmse: 51528.421875\n",
      "[1000] objective: 22953.80078125   rmse: 1900.31103515625\n",
      "[1500] objective: 22950.99609375   rmse: 1464.3970947265625\n",
      "[2000] objective: 23191.30078125   rmse: 1427.53759765625\n",
      "[2500] objective: 23107.876953125   rmse: 1913.392578125\n",
      "[3000] objective: 23004.4609375   rmse: 2186.76171875\n",
      "[3500] objective: 23228.142578125   rmse: 1484.990966796875\n",
      "[4000] objective: 22941.87109375   rmse: 1512.164306640625\n",
      "[4500] objective: 22998.06640625   rmse: 1491.73779296875\n",
      "[5000] objective: 22960.20703125   rmse: 1480.7032470703125\n",
      "[5500] objective: 22996.619140625   rmse: 1628.3642578125\n",
      "[6000] objective: 22989.451171875   rmse: 1435.3909912109375\n",
      "[6500] objective: 22993.921875   rmse: 1261.2591552734375\n",
      "[7000] objective: 23001.00390625   rmse: 1286.1400146484375\n",
      "[7500] objective: 22980.779296875   rmse: 1470.15185546875\n",
      "[8000] objective: 23127.2421875   rmse: 1772.8072509765625\n",
      "[8500] objective: 23030.4609375   rmse: 1246.9853515625\n",
      "[9000] objective: 22986.875   rmse: 1314.3817138671875\n",
      "[9500] objective: 23053.42578125   rmse: 1633.908447265625\n",
      "[10000] objective: 22994.048828125   rmse: 1587.0635986328125\n",
      "[10500] objective: 23195.572265625   rmse: 1413.0728759765625\n",
      "[11000] objective: 22928.150390625   rmse: 1363.3544921875\n",
      "[11500] objective: 22980.50390625   rmse: 1485.181396484375\n",
      "[12000] objective: 22997.142578125   rmse: 1419.358642578125\n",
      "[12500] objective: 23182.86328125   rmse: 1224.609619140625\n",
      "[13000] objective: 23104.125   rmse: 1464.4700927734375\n",
      "[13500] objective: 23050.71484375   rmse: 1394.038818359375\n",
      "[14000] objective: 22989.697265625   rmse: 1386.7088623046875\n",
      "[14500] objective: 22920.4375   rmse: 1450.2047119140625\n",
      "[15000] objective: 22977.34765625   rmse: 1626.667724609375\n",
      "[15500] objective: 23060.90234375   rmse: 1260.33203125\n",
      "[16000] objective: 23001.533203125   rmse: 1603.91748046875\n",
      "[16500] objective: 23064.587890625   rmse: 1423.9949951171875\n",
      "[17000] objective: 23072.177734375   rmse: 1399.666259765625\n",
      "[17500] objective: 23189.29296875   rmse: 1224.7000732421875\n",
      "[18000] objective: 23042.462890625   rmse: 1535.0091552734375\n",
      "[18500] objective: 23084.212890625   rmse: 1610.6884765625\n",
      "[19000] objective: 22908.462890625   rmse: 1273.1309814453125\n",
      "[19500] objective: 22936.0625   rmse: 1693.983642578125\n",
      "[20000] objective: 23154.853515625   rmse: 1601.872314453125\n",
      "[20500] objective: 23063.359375   rmse: 1476.83447265625\n",
      "[21000] objective: 23164.0   rmse: 1420.0745849609375\n",
      "[21500] objective: 22964.396484375   rmse: 1351.51708984375\n",
      "[22000] objective: 23045.015625   rmse: 1446.32421875\n",
      "[22500] objective: 23037.216796875   rmse: 1434.61767578125\n",
      "[23000] objective: 23009.609375   rmse: 1380.8836669921875\n",
      "[23500] objective: 22983.626953125   rmse: 1521.2342529296875\n",
      "[24000] objective: 23065.2421875   rmse: 1696.963134765625\n",
      "[24500] objective: 22937.28515625   rmse: 2073.724853515625\n",
      "[25000] objective: 23135.9765625   rmse: 1313.85595703125\n",
      "[25500] objective: 23084.072265625   rmse: 1658.570068359375\n",
      "[26000] objective: 22957.4921875   rmse: 1380.00390625\n",
      "[26500] objective: 22996.96484375   rmse: 1550.1170654296875\n",
      "[27000] objective: 23090.95703125   rmse: 1413.6729736328125\n",
      "[27500] objective: 22982.2890625   rmse: 1373.3851318359375\n",
      "[28000] objective: 22955.291015625   rmse: 1582.1024169921875\n",
      "[28500] objective: 23001.537109375   rmse: 1481.848876953125\n",
      "[29000] objective: 23013.3046875   rmse: 1328.8890380859375\n",
      "[29500] objective: 23014.404296875   rmse: 1309.838134765625\n"
     ]
    }
   ],
   "source": [
    "class StarEncoder(nn.Module):\n",
    "    def __init__(self):\n",
    "        super().__init__()\n",
    "        self.net = nn.Sequential(\n",
    "            nn.Linear(img_dim * img_dim, 64),\n",
    "            nn.ReLU(),\n",
    "            nn.Linear(64, 64),\n",
    "            nn.BatchNorm1d(64),\n",
    "            nn.ReLU(),\n",
    "            nn.Linear(64, 2),\n",
    "        )\n",
    "    \n",
    "    def forward(self, x):\n",
    "        x = x.view(-1, img_dim ** 2)\n",
    "        out = self.net(x)\n",
    "        q_mean = out[:, 0]\n",
    "        q_sd = out[:, 1].clamp(-6, 6).exp()\n",
    "        return Normal(q_mean, q_sd)\n",
    "    \n",
    "\n",
    "encoder = StarEncoder()\n",
    "optimizer = torch.optim.SGD(encoder.parameters(), lr=1e-3)\n",
    "\n",
    "mb = 8   # minibatch size\n",
    "num_samples = 64  # number of samples of q per image in the minibatch\n",
    "\n",
    "for i in range(30000):\n",
    "    indices = torch.randint(n, (mb,))\n",
    "    x = images[indices]\n",
    "\n",
    "    q = encoder(x)\n",
    "\n",
    "    z = q.rsample((num_samples,))\n",
    "    zt = z.permute(1, 0)\n",
    "    \n",
    "    rate = psf.view(1, img_dim, img_dim, 1) * zt.view(mb, 1, 1, num_samples)\n",
    "    rate = rate.clamp(0) + background_intensity\n",
    "    cond_ll = Poisson(rate)\n",
    "\n",
    "    # This formula can be deleted for students to fill in.\n",
    "    # The markdown above would need to give them more guidance on how to do it.\n",
    "    neg_elbo = q.log_prob(z).sum()\n",
    "    neg_elbo -= flux_prior.log_prob(z).sum()\n",
    "    neg_elbo -= cond_ll.log_prob(x.view(mb, img_dim, img_dim, 1)).sum()\n",
    "\n",
    "    if i % 500 == 0:\n",
    "        obj = neg_elbo.item() * n / (mb * num_samples)\n",
    "        rmse = flux_rmse(encoder(images).mean)\n",
    "        print(f\"[{i}] objective: {obj}   rmse: {rmse}\")\n",
    "\n",
    "    optimizer.zero_grad()\n",
    "    neg_elbo.sum().backward()\n",
    "    optimizer.step()"
   ]
  },
  {
   "cell_type": "code",
   "execution_count": null,
   "id": "6265d722",
   "metadata": {},
   "outputs": [],
   "source": []
  }
 ],
 "metadata": {
  "kernelspec": {
   "display_name": "Python 3 (ipykernel)",
   "language": "python",
   "name": "python3"
  },
  "language_info": {
   "codemirror_mode": {
    "name": "ipython",
    "version": 3
   },
   "file_extension": ".py",
   "mimetype": "text/x-python",
   "name": "python",
   "nbconvert_exporter": "python",
   "pygments_lexer": "ipython3",
   "version": "3.9.10"
  }
 },
 "nbformat": 4,
 "nbformat_minor": 5
}
